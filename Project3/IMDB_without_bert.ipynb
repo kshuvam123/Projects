{
  "cells": [
    {
      "cell_type": "code",
      "execution_count": 1,
      "metadata": {
        "id": "T3Hre_nFZU8t"
      },
      "outputs": [],
      "source": [
        "import pandas as pd\n",
        "df = pd.read_csv(\"IMDB Dataset.csv\")"
      ]
    },
    {
      "cell_type": "code",
      "execution_count": 2,
      "metadata": {
        "colab": {
          "base_uri": "https://localhost:8080/",
          "height": 206
        },
        "id": "BCxm-LwOa2Gs",
        "outputId": "05a72ffe-adc2-4aa4-cafa-cc8b63dd6f27"
      },
      "outputs": [
        {
          "data": {
            "text/html": [
              "<div>\n",
              "<style scoped>\n",
              "    .dataframe tbody tr th:only-of-type {\n",
              "        vertical-align: middle;\n",
              "    }\n",
              "\n",
              "    .dataframe tbody tr th {\n",
              "        vertical-align: top;\n",
              "    }\n",
              "\n",
              "    .dataframe thead th {\n",
              "        text-align: right;\n",
              "    }\n",
              "</style>\n",
              "<table border=\"1\" class=\"dataframe\">\n",
              "  <thead>\n",
              "    <tr style=\"text-align: right;\">\n",
              "      <th></th>\n",
              "      <th>review</th>\n",
              "      <th>sentiment</th>\n",
              "    </tr>\n",
              "  </thead>\n",
              "  <tbody>\n",
              "    <tr>\n",
              "      <th>0</th>\n",
              "      <td>One of the other reviewers has mentioned that ...</td>\n",
              "      <td>positive</td>\n",
              "    </tr>\n",
              "    <tr>\n",
              "      <th>1</th>\n",
              "      <td>A wonderful little production. &lt;br /&gt;&lt;br /&gt;The...</td>\n",
              "      <td>positive</td>\n",
              "    </tr>\n",
              "    <tr>\n",
              "      <th>2</th>\n",
              "      <td>I thought this was a wonderful way to spend ti...</td>\n",
              "      <td>positive</td>\n",
              "    </tr>\n",
              "    <tr>\n",
              "      <th>3</th>\n",
              "      <td>Basically there's a family where a little boy ...</td>\n",
              "      <td>negative</td>\n",
              "    </tr>\n",
              "    <tr>\n",
              "      <th>4</th>\n",
              "      <td>Petter Mattei's \"Love in the Time of Money\" is...</td>\n",
              "      <td>positive</td>\n",
              "    </tr>\n",
              "  </tbody>\n",
              "</table>\n",
              "</div>"
            ],
            "text/plain": [
              "                                              review sentiment\n",
              "0  One of the other reviewers has mentioned that ...  positive\n",
              "1  A wonderful little production. <br /><br />The...  positive\n",
              "2  I thought this was a wonderful way to spend ti...  positive\n",
              "3  Basically there's a family where a little boy ...  negative\n",
              "4  Petter Mattei's \"Love in the Time of Money\" is...  positive"
            ]
          },
          "execution_count": 2,
          "metadata": {},
          "output_type": "execute_result"
        }
      ],
      "source": [
        "df.head()"
      ]
    },
    {
      "cell_type": "code",
      "execution_count": 3,
      "metadata": {
        "colab": {
          "base_uri": "https://localhost:8080/"
        },
        "id": "g1Gh7DDWa4r0",
        "outputId": "fa5c500d-7f9e-427c-e96b-843e86649446"
      },
      "outputs": [
        {
          "data": {
            "text/plain": [
              "(50000, 2)"
            ]
          },
          "execution_count": 3,
          "metadata": {},
          "output_type": "execute_result"
        }
      ],
      "source": [
        "df.shape"
      ]
    },
    {
      "cell_type": "code",
      "execution_count": 4,
      "metadata": {
        "colab": {
          "base_uri": "https://localhost:8080/",
          "height": 466
        },
        "id": "WK1X9ighA7OW",
        "outputId": "5e1264fd-94f3-4b6f-f024-c6222433baa2"
      },
      "outputs": [
        {
          "data": {
            "text/plain": [
              "[]"
            ]
          },
          "execution_count": 4,
          "metadata": {},
          "output_type": "execute_result"
        },
        {
          "data": {
            "image/png": "[encoded data removed]",
            "text/plain": [
              "<Figure size 640x480 with 1 Axes>"
            ]
          },
          "metadata": {},
          "output_type": "display_data"
        }
      ],
      "source": [
        "df['score'] = df['sentiment'].apply(lambda x: 1 if x=='positive' else 0)\n",
        "import seaborn as sns\n",
        "import matplotlib.pyplot as plt\n",
        "sns.countplot(x='score',data = df)\n",
        "plt.plot()"
      ]
    },
    {
      "cell_type": "code",
      "execution_count": 5,
      "metadata": {
        "colab": {
          "base_uri": "https://localhost:8080/",
          "height": 178
        },
        "id": "27SagSLBa-CD",
        "outputId": "08148f00-6a2a-4095-d238-73bc450b74a3"
      },
      "outputs": [
        {
          "data": {
            "text/plain": [
              "review       0\n",
              "sentiment    0\n",
              "score        0\n",
              "dtype: int64"
            ]
          },
          "execution_count": 5,
          "metadata": {},
          "output_type": "execute_result"
        }
      ],
      "source": [
        "df.isnull().sum()"
      ]
    },
    {
      "cell_type": "code",
      "execution_count": 20,
      "metadata": {
        "colab": {
          "base_uri": "https://localhost:8080/"
        },
        "id": "w1CTEU6yA9w1",
        "outputId": "602e7c52-0ce3-4c3e-ea0a-8727cdc9309d"
      },
      "outputs": [
        {
          "name": "stderr",
          "output_type": "stream",
          "text": [
            "[nltk_data] Downloading package punkt to C:\\Users\\Swapna\n",
            "[nltk_data]     Kundu\\AppData\\Roaming\\nltk_data...\n",
            "[nltk_data]   Package punkt is already up-to-date!\n",
            "[nltk_data] Downloading package punkt_tab to C:\\Users\\Swapna\n",
            "[nltk_data]     Kundu\\AppData\\Roaming\\nltk_data...\n",
            "[nltk_data]   Package punkt_tab is already up-to-date!\n",
            "[nltk_data] Downloading package stopwords to C:\\Users\\Swapna\n",
            "[nltk_data]     Kundu\\AppData\\Roaming\\nltk_data...\n",
            "[nltk_data]   Package stopwords is already up-to-date!\n"
          ]
        }
      ],
      "source": [
        "import torch\n",
        "import torch.nn as nn\n",
        "import torch.optim as optim\n",
        "import numpy as np\n",
        "from collections import Counter\n",
        "from torch.utils.data import Dataset, DataLoader\n",
        "import nltk\n",
        "nltk.download('punkt')\n",
        "nltk.download('punkt_tab')\n",
        "nltk.download('stopwords')\n",
        "from nltk.tokenize import word_tokenize\n",
        "from nltk.corpus import stopwords\n",
        "\n",
        "import warnings\n",
        "warnings.filterwarnings('ignore')"
      ]
    },
    {
      "cell_type": "code",
      "execution_count": 7,
      "metadata": {
        "id": "oVkCm6kiKT--"
      },
      "outputs": [],
      "source": [
        "import re\n",
        "import string\n",
        "from torch.nn.utils.rnn import pad_sequence\n",
        "def clean_text(text):\n",
        "    text = text.lower()  # lowercase\n",
        "    text = re.sub(r'<.*?>', '', text)  # remove HTML tags\n",
        "    text = re.sub(f'[{re.escape(string.punctuation)}]', '', text)  # remove punctuation\n",
        "    text = re.sub(r'\\d+', '', text)  # remove numbers\n",
        "    text = re.sub(r'\\s+', ' ', text).strip()  # remove extra whitespace\n",
        "    return text\n",
        "def preprocess_text(text):\n",
        "    tokens = word_tokenize(text)\n",
        "\n",
        "    stop_words = set(stopwords.words('english'))\n",
        "    punctuation = set(string.punctuation)\n",
        "\n",
        "    filtered =[ words for words in tokens if words not in stop_words and words not in punctuation]\n",
        "\n",
        "    return filtered\n"
      ]
    },
    {
      "cell_type": "code",
      "execution_count": 8,
      "metadata": {
        "id": "zOgbf77YBP6e"
      },
      "outputs": [],
      "source": [
        "texts = df['review'].astype(str).tolist()"
      ]
    },
    {
      "cell_type": "code",
      "execution_count": 9,
      "metadata": {
        "id": "tn0zNX0tKT--"
      },
      "outputs": [],
      "source": [
        "cleaned_text =[clean_text(text) for text in texts]"
      ]
    },
    {
      "cell_type": "code",
      "execution_count": 10,
      "metadata": {
        "id": "jT9PYL9iKT-_"
      },
      "outputs": [],
      "source": [
        "filtered_texts =[preprocess_text(text) for text in cleaned_text]"
      ]
    },
    {
      "cell_type": "code",
      "execution_count": 11,
      "metadata": {
        "id": "vJ3rC1cgBaUk"
      },
      "outputs": [],
      "source": [
        "vocab ={\"<PAD>\" : 0, \"<UNK>\":1}\n",
        "for sentence in filtered_texts:\n",
        "  for item in sentence:\n",
        "      if item not in vocab:\n",
        "         vocab[item] = len(vocab)"
      ]
    },
    {
      "cell_type": "code",
      "execution_count": 12,
      "metadata": {
        "colab": {
          "base_uri": "https://localhost:8080/"
        },
        "id": "sajqFzC5Bczt",
        "outputId": "462c39f1-d38c-4ade-9a25-7200cd56b1a6"
      },
      "outputs": [],
      "source": [
        "encoded = []\n",
        "for sentence in filtered_texts:\n",
        "    ids = [vocab.get(word, vocab[\"<UNK>\"]) for word in sentence]\n",
        "    encoded.append(torch.tensor(ids))\n"
      ]
    },
    {
      "cell_type": "code",
      "execution_count": 13,
      "metadata": {
        "id": "lxJ2S0soKT-_"
      },
      "outputs": [],
      "source": [
        "label = df['score'].tolist()"
      ]
    },
    {
      "cell_type": "code",
      "execution_count": 14,
      "metadata": {
        "colab": {
          "base_uri": "https://localhost:8080/"
        },
        "id": "zF8mTKKiBt-g",
        "outputId": "540d2d21-d581-4adb-bbb6-cdebf25e371e"
      },
      "outputs": [
        {
          "name": "stdout",
          "output_type": "stream",
          "text": [
            "1420\n"
          ]
        }
      ],
      "source": [
        "len_list=[]\n",
        "\n",
        "for i in range(df.shape[0]):\n",
        "  len_list.append(len(encoded[i]))\n",
        "\n",
        "print(max(len_list))"
      ]
    },
    {
      "cell_type": "code",
      "execution_count": 21,
      "metadata": {
        "colab": {
          "base_uri": "https://localhost:8080/",
          "height": 638
        },
        "id": "508ZHxjAKT-_",
        "outputId": "7059b187-49c0-45eb-c68c-f2c638eef2a7"
      },
      "outputs": [
        {
          "data": {
            "text/plain": [
              "(0.0, 1500.0)"
            ]
          },
          "execution_count": 21,
          "metadata": {},
          "output_type": "execute_result"
        },
        {
          "data": {
            "image/png": "[encoded data removed]",
            "text/plain": [
              "<Figure size 640x480 with 1 Axes>"
            ]
          },
          "metadata": {},
          "output_type": "display_data"
        }
      ],
      "source": [
        "sns.distplot(len_list)\n",
        "plt.xlim([0,1500])"
      ]
    },
    {
      "cell_type": "code",
      "execution_count": 22,
      "metadata": {},
      "outputs": [
        {
          "name": "stdout",
          "output_type": "stream",
          "text": [
            "tensor([[    2,     3,     4,  ...,     0,     0,     0],\n",
            "        [  144,   145,   146,  ...,     0,     0,     0],\n",
            "        [  214,   144,   215,  ...,     0,     0,     0],\n",
            "        ...,\n",
            "        [12020, 17618, 73855,  ...,     0,     0,     0],\n",
            "        [  689,   303, 10783,  ...,     0,     0,     0],\n",
            "        [    2,  9214,   675,  ...,     0,     0,     0]])\n"
          ]
        }
      ],
      "source": [
        "max_len = 512\n",
        "encoded = [seq[:max_len] for seq in encoded]\n",
        "padded = pad_sequence(encoded, batch_first=True, padding_value=vocab[\"<PAD>\"])\n",
        "print(padded)"
      ]
    },
    {
      "cell_type": "code",
      "execution_count": 23,
      "metadata": {
        "id": "7RK8ugiECi-H"
      },
      "outputs": [],
      "source": [
        "X = padded\n",
        "y = label"
      ]
    },
    {
      "cell_type": "code",
      "execution_count": 24,
      "metadata": {
        "id": "h9zb9yI9ClLB"
      },
      "outputs": [],
      "source": [
        "from sklearn.model_selection import train_test_split\n",
        "X_train,X_temp,y_train,y_temp = train_test_split(X,y,test_size=0.2,stratify=y,random_state=42)"
      ]
    },
    {
      "cell_type": "code",
      "execution_count": 25,
      "metadata": {
        "id": "DTY-2Yw5KT_A"
      },
      "outputs": [],
      "source": [
        "X_val,X_test,y_val,y_test = train_test_split(X_temp,y_temp,test_size=0.5,random_state=42,stratify=y_temp)"
      ]
    },
    {
      "cell_type": "code",
      "execution_count": 26,
      "metadata": {
        "colab": {
          "base_uri": "https://localhost:8080/"
        },
        "id": "ArEKXSVdCoTS",
        "outputId": "ed3c2bad-cf8a-4407-f87e-1e5dcdce0c00"
      },
      "outputs": [],
      "source": [
        "X_train_tensor = torch.tensor(X_train,dtype = torch.long)\n",
        "y_train_tensor = torch.tensor(y_train,dtype = torch.long)\n",
        "X_val_tensor = torch.tensor(X_val,dtype = torch.long)\n",
        "y_val_tensor = torch.tensor(y_val,dtype = torch.long)\n",
        "X_test_tensor = torch.tensor(X_test,dtype = torch.long)\n",
        "y_test_tensor = torch.tensor(y_test,dtype = torch.long)"
      ]
    },
    {
      "cell_type": "code",
      "execution_count": 27,
      "metadata": {
        "id": "Hhmlxh4FCsXs"
      },
      "outputs": [],
      "source": [
        "class customset(Dataset):\n",
        "    def __init__(self,X,y):\n",
        "        super().__init__()\n",
        "        self.X = X\n",
        "        self.y = y\n",
        "    def __len__(self):\n",
        "        return self.X.shape[0]\n",
        "    def __getitem__(self, index):\n",
        "        return self.X[index],self.y[index]"
      ]
    },
    {
      "cell_type": "code",
      "execution_count": 28,
      "metadata": {
        "id": "ha0fw7BsCuiW"
      },
      "outputs": [],
      "source": [
        "train_dataset = customset(X_train_tensor,y_train_tensor)\n",
        "val_dataset = customset(X_val_tensor,y_val_tensor)\n",
        "test_dataset = customset(X_test_tensor,y_test_tensor)"
      ]
    },
    {
      "cell_type": "code",
      "execution_count": 29,
      "metadata": {
        "id": "gaLqKY_1Cwtg"
      },
      "outputs": [],
      "source": [
        "train_loader = DataLoader(train_dataset,batch_size=16,shuffle=True)\n",
        "val_loader = DataLoader(val_dataset,batch_size=16)\n",
        "test_loader = DataLoader(test_dataset,batch_size=16)"
      ]
    },
    {
      "cell_type": "code",
      "execution_count": 30,
      "metadata": {
        "id": "INswv7b_Cyql"
      },
      "outputs": [],
      "source": [
        "import math\n",
        "\n",
        "class PositionalEncoding(nn.Module):\n",
        "  def __init__(self, d_model, seq_len , dropout):\n",
        "    super().__init__()\n",
        "    self.d_model = d_model\n",
        "    self.seq_len = seq_len\n",
        "    self.dropout = nn.Dropout(dropout)\n",
        "\n",
        "    pe = torch.zeros(seq_len, d_model)\n",
        "    pos = torch.arange(0,seq_len, dtype=torch.float).unsqueeze(1)\n",
        "    div_term = torch.exp(torch.arange(0,d_model,2).float() * (-math.log(10000.0)/d_model))\n",
        "\n",
        "    pe[:,0::2] = torch.sin(pos * div_term)\n",
        "    pe[:,1::2] = torch.cos(pos * div_term)\n",
        "\n",
        "    pe = pe.unsqueeze(0)\n",
        "\n",
        "    self.register_buffer('pe',pe)\n",
        "  def forward(self,x):\n",
        "    x = x + (self.pe[:,:x.shape[1],:]).to(x.device)\n",
        "    return self.dropout(x)\n",
        "\n",
        "class FeedForward(nn.Module):\n",
        "  def __init__(self, d_model, dim_ff, dropout=0.1):\n",
        "    super().__init__()\n",
        "    self.network = nn.Sequential(\n",
        "        nn.Linear(d_model, dim_ff),\n",
        "        nn.ReLU(),\n",
        "        nn.Dropout(dropout),\n",
        "        nn.Linear(dim_ff,d_model)\n",
        "    )\n",
        "  def forward(self,x):\n",
        "    return self.network(x)\n",
        "\n",
        "class MultiHeadAttention(nn.Module):\n",
        "    def __init__(self, d_model: int, h: int):\n",
        "        super().__init__()\n",
        "        assert d_model % h == 0, \"d_model must be divisible by h\"\n",
        "\n",
        "        self.d_model = d_model\n",
        "        self.h = h\n",
        "        self.d_k = d_model // h\n",
        "\n",
        "        # Use single, larger linear layers\n",
        "        self.w_q = nn.Linear(d_model, d_model, bias=False)\n",
        "        self.w_k = nn.Linear(d_model, d_model, bias=False)\n",
        "        self.w_v = nn.Linear(d_model, d_model, bias=False)\n",
        "        self.w_o = nn.Linear(d_model, d_model, bias=False)\n",
        "\n",
        "    @staticmethod\n",
        "    def scaled_dot_product_attention(query, key, value, mask=None):\n",
        "        d_k = query.shape[-1]\n",
        "        attention_scores = torch.matmul(query, key.transpose(-2, -1)) / math.sqrt(d_k)\n",
        "\n",
        "        if mask is not None:\n",
        "            attention_scores = attention_scores.masked_fill(mask == 0, -1e9)\n",
        "\n",
        "        attention_prob = torch.softmax(attention_scores, dim=-1)\n",
        "        output = torch.matmul(attention_prob, value)\n",
        "        return output\n",
        "\n",
        "    def forward(self, q, k, v, mask=None):\n",
        "        batch_size = q.size(0)\n",
        "        query = self.w_q(q).view(batch_size, -1, self.h, self.d_k).transpose(1, 2)\n",
        "        key = self.w_k(k).view(batch_size, -1, self.h, self.d_k).transpose(1, 2)\n",
        "        value = self.w_v(v).view(batch_size, -1, self.h, self.d_k).transpose(1, 2)\n",
        "\n",
        "\n",
        "        attention_output = self.scaled_dot_product_attention(query, key, value, mask)\n",
        "        concatenated = attention_output.transpose(1, 2).contiguous().view(batch_size, -1, self.d_model)\n",
        "\n",
        "        output = self.w_o(concatenated)\n",
        "        return output\n",
        "\n",
        "class EncoderLayer(nn.Module):\n",
        "   def __init__(self, d_model , h , dim_ff , dropout):\n",
        "      super().__init__()\n",
        "      self.self_attn = MultiHeadAttention(d_model , h)\n",
        "      self.ff = FeedForward(d_model , dim_ff,dropout)\n",
        "      self.norm1 = nn.LayerNorm(d_model)\n",
        "      self.norm2 = nn.LayerNorm(d_model)\n",
        "      self.dropout = nn.Dropout(dropout)\n",
        "\n",
        "   def forward(self,x,mask):\n",
        "      attention_output = self.self_attn(x,x,x,mask)\n",
        "      x = self.norm1(self.dropout(attention_output))\n",
        "      ff_output = self.ff(x)\n",
        "      x = self.norm2(x + self.dropout(ff_output))\n",
        "\n",
        "      return x"
      ]
    },
    {
      "cell_type": "code",
      "execution_count": 31,
      "metadata": {
        "id": "HgX3lpg9D2PG"
      },
      "outputs": [],
      "source": [
        "class TransformerSentimentClassifier(nn.Module):\n",
        "    def __init__(self, vocab_size, d_model, h, num_layers, dim_ff, max_len, dropout):\n",
        "        super().__init__()\n",
        "        self.d_model = d_model\n",
        "        self.h = h\n",
        "        self.num_layers = num_layers\n",
        "        self.dim_ff = dim_ff\n",
        "        self.max_len = max_len\n",
        "        self.encoder_embedding = nn.Embedding(vocab_size, self.d_model)\n",
        "        self.positional_encoding = PositionalEncoding(self.d_model, self.max_len,dropout)\n",
        "        self.encoder_layers = nn.ModuleList([\n",
        "            EncoderLayer(self.d_model, self.h, self.dim_ff,dropout) for _ in range(self.num_layers)\n",
        "        ])\n",
        "        self.dropout = nn.Dropout(dropout)\n",
        "        self.fc = nn.Linear(self.d_model, 2,dropout)  # Binary classification\n",
        "\n",
        "    def forward(self, src):\n",
        "        x = self.dropout(self.positional_encoding(self.encoder_embedding(src)))\n",
        "        mask = (src != 0).unsqueeze(1).unsqueeze(2)\n",
        "        for layer in self.encoder_layers:\n",
        "            x = layer(x, mask)\n",
        "        x = x.mean(dim=1)  # average pooling\n",
        "        y = self.fc(x)\n",
        "        return y\n"
      ]
    },
    {
      "cell_type": "code",
      "execution_count": 32,
      "metadata": {
        "id": "g63H9LdkEAQI"
      },
      "outputs": [],
      "source": [
        "model = TransformerSentimentClassifier(len(vocab),512,8,4,2048,512,0.2)"
      ]
    },
    {
      "cell_type": "code",
      "execution_count": 33,
      "metadata": {
        "colab": {
          "base_uri": "https://localhost:8080/"
        },
        "id": "QrSIVMlTEGBV",
        "outputId": "c4c03fdd-ef94-4569-8bd5-04cda91c8ca3"
      },
      "outputs": [
        {
          "name": "stdout",
          "output_type": "stream",
          "text": [
            "cuda\n"
          ]
        }
      ],
      "source": [
        "device = torch.device(\"cuda\" if torch.cuda.is_available() else \"cpu\")\n",
        "print(device)"
      ]
    },
    {
      "cell_type": "code",
      "execution_count": 34,
      "metadata": {
        "colab": {
          "base_uri": "https://localhost:8080/"
        },
        "id": "L9xIGf9HEH_R",
        "outputId": "80a2ffde-abb2-466f-a82a-2285abbd8641"
      },
      "outputs": [
        {
          "data": {
            "text/plain": [
              "TransformerSentimentClassifier(\n",
              "  (encoder_embedding): Embedding(215293, 512)\n",
              "  (positional_encoding): PositionalEncoding(\n",
              "    (dropout): Dropout(p=0.2, inplace=False)\n",
              "  )\n",
              "  (encoder_layers): ModuleList(\n",
              "    (0-3): 4 x EncoderLayer(\n",
              "      (self_attn): MultiHeadAttention(\n",
              "        (w_q): Linear(in_features=512, out_features=512, bias=False)\n",
              "        (w_k): Linear(in_features=512, out_features=512, bias=False)\n",
              "        (w_v): Linear(in_features=512, out_features=512, bias=False)\n",
              "        (w_o): Linear(in_features=512, out_features=512, bias=False)\n",
              "      )\n",
              "      (ff): FeedForward(\n",
              "        (network): Sequential(\n",
              "          (0): Linear(in_features=512, out_features=2048, bias=True)\n",
              "          (1): ReLU()\n",
              "          (2): Dropout(p=0.2, inplace=False)\n",
              "          (3): Linear(in_features=2048, out_features=512, bias=True)\n",
              "        )\n",
              "      )\n",
              "      (norm1): LayerNorm((512,), eps=1e-05, elementwise_affine=True)\n",
              "      (norm2): LayerNorm((512,), eps=1e-05, elementwise_affine=True)\n",
              "      (dropout): Dropout(p=0.2, inplace=False)\n",
              "    )\n",
              "  )\n",
              "  (dropout): Dropout(p=0.2, inplace=False)\n",
              "  (fc): Linear(in_features=512, out_features=2, bias=True)\n",
              ")"
            ]
          },
          "execution_count": 34,
          "metadata": {},
          "output_type": "execute_result"
        }
      ],
      "source": [
        "model.to(device)"
      ]
    },
    {
      "cell_type": "code",
      "execution_count": 35,
      "metadata": {
        "id": "Lm70jelYEJ3d"
      },
      "outputs": [],
      "source": [
        "epochs = 5\n",
        "learning_rate = 1e-5\n",
        "\n",
        "criterion = nn.CrossEntropyLoss()\n",
        "\n",
        "optimizer = torch.optim.Adam(model.parameters(), lr=learning_rate)"
      ]
    },
    {
      "cell_type": "code",
      "execution_count": 36,
      "metadata": {
        "id": "Uf7qA1iaKT_C"
      },
      "outputs": [],
      "source": [
        "def train(model, data_loader, optimizer,device,n_examples):\n",
        "    model = model.train()\n",
        "    losses = []\n",
        "    correct_predictions = 0\n",
        "\n",
        "    for batch_x ,  batch_y in data_loader:\n",
        "        batch_x , batch_y = batch_x.to(device) , batch_y.to(device)\n",
        "        outputs = model(batch_x)\n",
        "        _,preds = torch.max(outputs,dim=1)\n",
        "        loss = nn.CrossEntropyLoss()(outputs, batch_y)\n",
        "        loss.backward()\n",
        "        nn.utils.clip_grad_norm_(model.parameters(),max_norm=1.0)\n",
        "        optimizer.step()\n",
        "        optimizer.zero_grad()\n",
        "        correct_predictions += torch.sum(preds==batch_y)\n",
        "        losses.append(loss.item())\n",
        "    return correct_predictions.double()/n_examples , np.mean(losses) , losses\n",
        "\n",
        "def evaluate(model, data_loader, device,n_examples):\n",
        "    model.eval()\n",
        "    losses=[]\n",
        "    correct_prediction = 0\n",
        "    with torch.no_grad():\n",
        "        for batch_x , batch_y in data_loader:\n",
        "            batch_x , batch_y = batch_x.to(device) , batch_y.to(device)\n",
        "            outputs = model(batch_x)\n",
        "            _, preds = torch.max(outputs, dim=1)\n",
        "            result = nn.CrossEntropyLoss()(outputs,batch_y)\n",
        "            correct_prediction += torch.sum(preds==batch_y)\n",
        "            losses.append(result.item())\n",
        "    return correct_prediction.double()/n_examples , np.mean(losses) , losses"
      ]
    },
    {
      "cell_type": "code",
      "execution_count": 37,
      "metadata": {
        "colab": {
          "base_uri": "https://localhost:8080/"
        },
        "id": "POLV3Ov8KT_C",
        "outputId": "b6121e17-6390-4195-e6e1-29db1f61a108"
      },
      "outputs": [
        {
          "name": "stdout",
          "output_type": "stream",
          "text": [
            "Epoch 1/5\n",
            "----------\n",
            "Train loss 0.5706175531327724 accuracy 0.696975\n",
            "Val   loss 0.44915049235089516 accuracy 0.7784000000000001\n",
            "Epoch 2/5\n",
            "----------\n",
            "Train loss 0.47623961451351643 accuracy 0.7699250000000001\n",
            "Val   loss 0.3994329655513215 accuracy 0.8166\n",
            "Epoch 3/5\n",
            "----------\n",
            "Train loss 0.4318252657324076 accuracy 0.798625\n",
            "Val   loss 0.3977667357498845 accuracy 0.8240000000000001\n",
            "Epoch 4/5\n",
            "----------\n",
            "Train loss 0.406734960848093 accuracy 0.8134\n",
            "Val   loss 0.38870156923541055 accuracy 0.8402000000000001\n",
            "Epoch 5/5\n",
            "----------\n",
            "Train loss 0.3885813027262688 accuracy 0.8249000000000001\n",
            "Val   loss 0.3684290255220553 accuracy 0.8400000000000001\n"
          ]
        }
      ],
      "source": [
        "from collections import defaultdict\n",
        "history = defaultdict(list)\n",
        "best_accuracy = 0\n",
        "\n",
        "training_loss = []\n",
        "validadtion_loss = []\n",
        "\n",
        "for epoch in range(epochs):\n",
        "    print(f\"Epoch {epoch + 1}/{epochs}\")\n",
        "    print(\"-\" * 10)\n",
        "\n",
        "    train_acc, train_loss , loss= train(model,train_loader,optimizer,device,len(X_train))\n",
        "    training_loss.append(loss)\n",
        "    print(f\"Train loss {train_loss} accuracy {train_acc}\")\n",
        "\n",
        "    val_acc, val_loss , loss_val = evaluate(model,val_loader,device,len(X_val))\n",
        "    validadtion_loss.append(loss_val)\n",
        "    print(f\"Val   loss {val_loss} accuracy {val_acc}\")\n",
        "    \n",
        "    history['train_acc'].append(train_acc)\n",
        "    history['train_loss'].append(train_loss)\n",
        "    history['val_acc'].append(val_acc)\n",
        "    history['val_loss'].append(val_loss)\n"
      ]
    },
    {
      "cell_type": "code",
      "execution_count": 38,
      "metadata": {
        "id": "FUadL8crKT_C"
      },
      "outputs": [],
      "source": [
        "train_losses = [np.mean(item) for item in training_loss]\n",
        "validation_losses = [np.mean(item) for item in validadtion_loss]"
      ]
    },
    {
      "cell_type": "code",
      "execution_count": 39,
      "metadata": {
        "colab": {
          "base_uri": "https://localhost:8080/",
          "height": 472
        },
        "id": "kg3c7YY6KT_C",
        "outputId": "4c1287b5-0e36-4f9d-fa24-b6926f2cb5ed"
      },
      "outputs": [
        {
          "data": {
            "image/png": "[encoded data removed]",
            "text/plain": [
              "<Figure size 640x480 with 1 Axes>"
            ]
          },
          "metadata": {},
          "output_type": "display_data"
        }
      ],
      "source": [
        "plt.plot(train_losses, label='Training Loss')\n",
        "plt.plot(validation_losses, label='Validation Loss')\n",
        "plt.xlabel('Epoch')\n",
        "plt.ylabel('Loss')\n",
        "plt.title('Training vs Validation Loss')\n",
        "plt.legend()\n",
        "plt.grid(True)\n",
        "plt.show()"
      ]
    },
    {
      "cell_type": "code",
      "execution_count": 40,
      "metadata": {
        "id": "EO8m2j7XNt1w"
      },
      "outputs": [],
      "source": [
        "import torch.nn.functional as F\n",
        "def prediction(model, vocab, text):\n",
        "  clean = clean_text(text)\n",
        "  tokenized_text = preprocess_text(clean)\n",
        "  numerical_text=[]\n",
        "  for word in tokenized_text:\n",
        "    if word in vocab.keys():\n",
        "        numerical_text.append(torch.tensor([vocab[word]], dtype=torch.long))\n",
        "    else:\n",
        "       numerical_text.append(torch.tensor([vocab['<UNK>']],dtype=torch.long))\n",
        "\n",
        "  numerical_text = numerical_text[:512]\n",
        "  if len(numerical_text)<512:\n",
        "    numerical_text = numerical_text + ([0] * (512 - len(numerical_text)))\n",
        "\n",
        "  \n",
        "  numerical_text = torch.tensor(numerical_text,dtype=torch.long)\n",
        "    # Add batch dimension\n",
        "  final_text = numerical_text.unsqueeze(0).to(device)  # shape: [1, seq_len]\n",
        "\n",
        "\n",
        "\n",
        "  output = model(final_text)\n",
        "  _, prediction = torch.max(output, dim=1)\n",
        "  pred_prob = F.softmax(output, dim=1).detach().cpu().numpy().reshape(2)\n",
        "\n",
        "  class_name = ['negative','positive']\n",
        "  data = {\"class_name\":class_name ,\"value\":pred_prob}\n",
        "\n",
        "  df = pd.DataFrame(data)\n",
        "\n",
        "  sns.barplot(x='value',y='class_name',data=df,orient='h')\n",
        "  plt.xlim([0,1])\n",
        "  plt.xlabel('probability')\n",
        "  plt.ylabel('sentiment')\n",
        "  plt.show()\n",
        "\n",
        "  print(f\"Review text: {text}\")\n",
        "  print(f\"negative : {pred_prob[0]:0.4f} , positive : {pred_prob[1]:0.4f}\")\n",
        "  print(f\"Sentiment  : {class_name[prediction]}\")"
      ]
    },
    {
      "cell_type": "code",
      "execution_count": 41,
      "metadata": {
        "colab": {
          "base_uri": "https://localhost:8080/",
          "height": 321
        },
        "id": "zd9TdMaTNt5N",
        "outputId": "5ef93b40-7c08-4db7-dc4d-2b56726cad2d"
      },
      "outputs": [
        {
          "data": {
            "image/png": "[encoded data removed]",
            "text/plain": [
              "<Figure size 640x480 with 1 Axes>"
            ]
          },
          "metadata": {},
          "output_type": "display_data"
        },
        {
          "name": "stdout",
          "output_type": "stream",
          "text": [
            "Review text: unexpected ending but pretty good watch\n",
            "negative : 0.0423 , positive : 0.9577\n",
            "Sentiment  : positive\n"
          ]
        }
      ],
      "source": [
        "prediction(model,vocab,\"unexpected ending but pretty good watch\")"
      ]
    },
    {
      "cell_type": "code",
      "execution_count": 42,
      "metadata": {
        "colab": {
          "base_uri": "https://localhost:8080/"
        },
        "id": "gE42-WmzOMtj",
        "outputId": "31e6389d-febb-4ec1-e816-a97eb04a16c7"
      },
      "outputs": [
        {
          "data": {
            "image/png": "[encoded data removed]",
            "text/plain": [
              "<Figure size 640x480 with 1 Axes>"
            ]
          },
          "metadata": {},
          "output_type": "display_data"
        },
        {
          "name": "stdout",
          "output_type": "stream",
          "text": [
            "Review text: movie is best of all time\n",
            "negative : 0.0020 , positive : 0.9980\n",
            "Sentiment  : positive\n"
          ]
        }
      ],
      "source": [
        "prediction(model,vocab,\"movie is best of all time\")"
      ]
    },
    {
      "cell_type": "code",
      "execution_count": 44,
      "metadata": {},
      "outputs": [
        {
          "data": {
            "image/png": "[encoded data removed]",
            "text/plain": [
              "<Figure size 640x480 with 1 Axes>"
            ]
          },
          "metadata": {},
          "output_type": "display_data"
        },
        {
          "name": "stdout",
          "output_type": "stream",
          "text": [
            "Review text: Ending is terrible\n",
            "negative : 0.9994 , positive : 0.0006\n",
            "Sentiment  : negative\n"
          ]
        }
      ],
      "source": [
        "prediction(model,vocab,\"Ending is terrible\")"
      ]
    },
    {
      "cell_type": "code",
      "execution_count": 43,
      "metadata": {
        "id": "uFwcfmmuOjg9"
      },
      "outputs": [],
      "source": [
        "from sklearn.metrics import accuracy_score, classification_report\n",
        "\n",
        "def evaluate_model(model, val_loader, device):\n",
        "    model.eval()\n",
        "    all_preds = []\n",
        "    all_labels = []\n",
        "    with torch.no_grad():\n",
        "        for x, y in val_loader:\n",
        "            x = x.to(device)\n",
        "            y = y.to(device)  # Move labels to the device\n",
        "            outputs = model(x)\n",
        "            preds = torch.argmax(outputs, dim=1).cpu()\n",
        "            all_preds.extend(preds.tolist())\n",
        "            all_labels.extend(y.cpu().tolist())\n",
        "    acc = accuracy_score(all_labels, all_preds)\n",
        "    print(f\"Validation Accuracy: {acc:.4f}\")\n",
        "    print(classification_report(all_labels, all_preds, target_names=['Negative', 'Positive']))"
      ]
    },
    {
      "cell_type": "code",
      "execution_count": 45,
      "metadata": {
        "id": "0uqlPTBXKT_I",
        "outputId": "cb287a0a-151d-4000-8ea6-aeb1621c0411"
      },
      "outputs": [
        {
          "name": "stdout",
          "output_type": "stream",
          "text": [
            "Validation Accuracy: 0.8428\n",
            "              precision    recall  f1-score   support\n",
            "\n",
            "    Negative       0.88      0.79      0.83      2500\n",
            "    Positive       0.81      0.90      0.85      2500\n",
            "\n",
            "    accuracy                           0.84      5000\n",
            "   macro avg       0.85      0.84      0.84      5000\n",
            "weighted avg       0.85      0.84      0.84      5000\n",
            "\n"
          ]
        }
      ],
      "source": [
        "evaluate_model(model,test_loader,device)"
      ]
    },
    {
      "cell_type": "code",
      "execution_count": 46,
      "metadata": {
        "id": "52mFmCooKT_I"
      },
      "outputs": [],
      "source": [
        "from sklearn.metrics import roc_curve, auc\n",
        "\n",
        "def plot_roc_curve(model, val_loader, device):\n",
        "    model.eval()\n",
        "    all_labels = []\n",
        "    all_probs = []\n",
        "\n",
        "    with torch.no_grad():\n",
        "        for x, y in val_loader:\n",
        "            x = x.to(device)\n",
        "            y = y.to(device)\n",
        "            outputs = model(x)                      # logits\n",
        "            probs = torch.softmax(outputs, dim=1)   # apply softmax\n",
        "            positive_probs = probs[:, 1]            # probability of positive class\n",
        "\n",
        "            all_labels.extend(y.cpu().numpy())\n",
        "            all_probs.extend(positive_probs.cpu().numpy())\n",
        "\n",
        "    # Compute ROC curve and AUC\n",
        "    fpr, tpr, thresholds = roc_curve(all_labels, all_probs)\n",
        "    roc_auc = auc(fpr, tpr)\n",
        "    # Plot\n",
        "    plt.figure(figsize=(8,6))\n",
        "    plt.plot(fpr, tpr, color='blue', lw=2, label=f\"ROC curve (AUC = {roc_auc:.4f})\")\n",
        "    plt.plot([0, 1], [0, 1], color='gray', lw=1, linestyle='--')\n",
        "    plt.xlabel('False Positive Rate')\n",
        "    plt.ylabel('True Positive Rate')\n",
        "    plt.title('Receiver Operating Characteristic (ROC) Curve')\n",
        "    plt.legend(loc='lower right')\n",
        "    plt.grid(True)\n",
        "    plt.show()\n"
      ]
    },
    {
      "cell_type": "code",
      "execution_count": 47,
      "metadata": {
        "id": "Aw9y94KDKT_I",
        "outputId": "1faf780d-e7e2-43da-95b0-2c96931b5853"
      },
      "outputs": [
        {
          "data": {
            "image/png": "[encoded data removed]",
            "text/plain": [
              "<Figure size 800x600 with 1 Axes>"
            ]
          },
          "metadata": {},
          "output_type": "display_data"
        }
      ],
      "source": [
        "plot_roc_curve(model,test_loader,device)"
      ]
    },
    {
      "cell_type": "code",
      "execution_count": 48,
      "metadata": {
        "id": "A_t7Sw8xKT_I"
      },
      "outputs": [],
      "source": [
        "torch.save(model.state_dict(),\"IMDB.pt\")"
      ]
    },
    {
      "cell_type": "code",
      "execution_count": null,
      "metadata": {},
      "outputs": [],
      "source": []
    }
  ],
  "metadata": {
    "accelerator": "GPU",
    "colab": {
      "gpuType": "T4",
      "provenance": []
    },
    "kernelspec": {
      "display_name": "Python 3",
      "name": "python3"
    },
    "language_info": {
      "codemirror_mode": {
        "name": "ipython",
        "version": 3
      },
      "file_extension": ".py",
      "mimetype": "text/x-python",
      "name": "python",
      "nbconvert_exporter": "python",
      "pygments_lexer": "ipython3",
      "version": "3.11.5"
    }
  },
  "nbformat": 4,
  "nbformat_minor": 0
}
